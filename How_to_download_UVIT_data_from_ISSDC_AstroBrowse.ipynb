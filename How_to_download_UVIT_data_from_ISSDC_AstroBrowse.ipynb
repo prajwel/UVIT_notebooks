{
 "cells": [
  {
   "cell_type": "markdown",
   "id": "ae6f2481-21ed-4c44-a130-19e9b62f49e9",
   "metadata": {},
   "source": [
    "The [ISSDC AstroBrowse archive website](https://astrobrowse.issdc.gov.in/astro_archive/archive/Home.jsp) is presently the only archive where AstroSat UVIT data can be accessed publicly. You need to have a username and password to log in to the AstroBrowse website. Click on the register link to create login credentials if you do not already possess one. Once you have logged in to the website, search and download your source of interest. For example, we will search for the data of NGC 7252 (also known as Atoms for Peace Galaxy). Please see the GIF movie below. We will find an Observation ID `G07_003T02_9000001564` (PI: Koshy) matching our search criteria. This data is now publicly available for download after the proprietary period. Two publications are associated with this data. See,\n",
    "* George, K., et al. \"Dissecting star formation in the \"Atoms-for-Peace\" galaxy-UVIT observations of the post-merger galaxy NGC7252.\" Astronomy & Astrophysics 614 (2018): A130. \n",
    "* George, K., et al. \"UVIT observations of the star-forming ring in NGC 7252: Evidence of possible AGN feedback suppressing central star formation.\" Astronomy & Astrophysics 613 (2018): L9.\n",
    "\n",
    "![](images/AstroBrowse-fast.gif)"
   ]
  },
  {
   "cell_type": "markdown",
   "id": "5051ce28-314c-4289-8cbc-92352b2bbcbb",
   "metadata": {},
   "source": [
    "After downloading the Level2 data (Level1: unprocessed, Level2: processed), we will have a zipped directory, `LEVL2AS1UVT20170927G07_003T02_9000001564.zip`. Once extracted, a directory named `20170927_G07_003T02_9000001564_level2` can be found. This directory has the following structure.\n",
    "```\n",
    "20170927_G07_003T02_9000001564_level2/\n",
    "└── uvit\n",
    "    ├── DISCLAIMER.txt\n",
    "    ├── LEVL1AS1UVT20170927G07_003T02_9000001564_10811_V2.2_dqr.xml\n",
    "    ├── RAS_NUV\n",
    "    │   ├── pipeline\n",
    "    │   ├── uvt_01\n",
    "    │   ├── uvt_02\n",
    "    │   ├── uvt_03\n",
    "    │   ├── uvt_04\n",
    "    │   ├── uvt_05\n",
    "    │   ├── uvt_06\n",
    "    │   └── uvt_ci\n",
    "    ├── RAS_VIS\n",
    "    │   ├── pipeline\n",
    "    │   ├── uvt_01\n",
    "    │   ├── uvt_02\n",
    "    │   ├── uvt_03\n",
    "    │   ├── uvt_04\n",
    "    │   ├── uvt_05\n",
    "    │   ├── uvt_06\n",
    "    │   └── uvt_ci\n",
    "    └── README.txt\n",
    "\n",
    "```\n",
    "\n",
    "Please read the `README.txt` for details on Level2 data and what it contains. \n",
    "\n",
    "* `RAS_VIS` directory contains images that were corrected for satellite drift using the VIS (visible) channel. \n",
    "* `RAS_NUV` directory contains images that were corrected for satellite drift using the NUV (near-ultraviolet) channel. \n",
    "\n",
    "For most cases, the data from `RAS_VIS` would be suitable. Check the statistics inside `DISCLAIMER.txt` to decide what to use. \n",
    " \n",
    "For this case, data statistics inside the `DISCLAIMER.txt` is as follows. Note that the values are in seconds.  \n",
    "\n",
    "```\n",
    "        |\tVIS\t |\tNUV\t |\tFUV\n",
    "- - —  - - - —  - -  —  - - —  - - - —  - -  — \n",
    "ASV     |\t8300\t|\t8300\t|\t8300\n",
    "- - —  - - - —  - -  —  - - —  - - - —  - -  — \n",
    "L1      |\t8770\t|\t8268\t|\t8247\n",
    "- - —  - - - —  - -  —  - - —  - - - —  - -  — \n",
    "L2(NUV) |\t\t    |\t3180\t|\t3183\n",
    "- - —  - - - —  - -  —  - - —  - - - —  - -  — \n",
    "L2(VIS) |\t        |\t8267\t|\t8247\n",
    "```\n",
    "\n",
    "clearly, RAS_VIS directory contains more data than RAS_NUV. \n",
    "\n",
    "Our directory of interest, RAS_VIS, has the following contents.\n"
   ]
  },
  {
   "cell_type": "code",
   "execution_count": null,
   "id": "11ca36df-33a8-463b-b43e-40e8489bcf0e",
   "metadata": {},
   "outputs": [],
   "source": []
  }
 ],
 "metadata": {
  "kernelspec": {
   "display_name": "Python 3 (ipykernel)",
   "language": "python",
   "name": "python3"
  },
  "language_info": {
   "codemirror_mode": {
    "name": "ipython",
    "version": 3
   },
   "file_extension": ".py",
   "mimetype": "text/x-python",
   "name": "python",
   "nbconvert_exporter": "python",
   "pygments_lexer": "ipython3",
   "version": "3.9.9"
  }
 },
 "nbformat": 4,
 "nbformat_minor": 5
}
