{
 "cells": [
  {
   "cell_type": "markdown",
   "id": "3d75ddf3-ef97-4ac6-a24d-f65f8c644ec3",
   "metadata": {},
   "source": [
    "This notebook shows how to check whether a field can be safely observed with UVIT. The safety of the VIS, FUV, and NUV (currently not functional) channels can be checked for various filters."
   ]
  },
  {
   "cell_type": "markdown",
   "id": "17352551-1cb7-475b-bf53-4a69e030586a",
   "metadata": {},
   "source": [
    "The following Python script depends on the Python package Canuvit. If you do not have it installed, please install it. If you are using Colab/Binder, uncomment the cell below and run to install the package for the online interactive session."
   ]
  },
  {
   "cell_type": "code",
   "execution_count": 3,
   "id": "65eb5be3-9adc-49f6-8dfb-94362891df3b",
   "metadata": {},
   "outputs": [],
   "source": [
    "# !pip install canuvit"
   ]
  },
  {
   "cell_type": "markdown",
   "id": "64cb5558-8673-4c08-af69-c5ed2e982aab",
   "metadata": {},
   "source": [
    "Import the canuvit package."
   ]
  },
  {
   "cell_type": "code",
   "execution_count": 2,
   "id": "3b582ca2-d0d4-4a32-bfe2-f5d356808e87",
   "metadata": {},
   "outputs": [],
   "source": [
    "import canuvit"
   ]
  },
  {
   "cell_type": "markdown",
   "id": "d971c3e1-b8e6-46a8-a09c-85cdc2be343a",
   "metadata": {},
   "source": [
    "As an example, we will try to check which filters are safe to observe in the VIS, FUV, and NUV (currently not functional) channels of UVIT for the field containing HZ 4 https://simbad.u-strasbg.fr/simbad/sim-id?protocol=html&Ident=HZ4&NbIdent=1&. UVIT is the primary instrument selected. Note that the script may take ~1 minute to run."
   ]
  },
  {
   "cell_type": "code",
   "execution_count": 5,
   "id": "974465ac-3267-4507-8d1a-9664177167e1",
   "metadata": {},
   "outputs": [
    {
     "name": "stdout",
     "output_type": "stream",
     "text": [
      "\n",
      "Payload: uvit, Coordinates: 03 55 22, 09 47 18\n",
      "\n",
      "\n",
      "\n",
      "### VIS\n",
      "\n",
      "ra_hms\tdec_dms\tmag\tB-V\tSpecType\tVIS3\tVIS2\tVIS1\tND1\tBK7\n",
      "\n",
      "03:55:37.7592\t+09:55:44.508\t8.551\t0.445\tF5\t20600.0\t3318.0\t2555.2\t464.0\t27100.0\n",
      "03:54:57.3384\t+09:47:09.492\t9.842\t0.418\tF5\t6268.8\t1010.4\t778.1\t141.3\t8237.7\n",
      "03:56:14.7144\t+09:58:20.856\t10.584\t1.022\tK4\t1775.9\t122.3\t74.2\t39.9\t2096.1\n",
      "03:54:21.4008\t+09:42:45.828\t11.24\t0.479\tF5\t1729.7\t278.8\t214.7\t39.0\t2273.0\n",
      "03:56:17.2536\t+09:38:57.804\t11.571\t0.371\tF2\t1403.4\t250.7\t177.2\t31.8\t1855.2\n",
      "03:54:53.8032\t+09:49:54.084\t11.847\t0.804\tK0\t667.5\t62.3\t44.4\t14.9\t813.6\n",
      "\n",
      "\n",
      "Safe filters: ['VIS2', 'VIS1', 'ND1']\n",
      "\n",
      "\n",
      "\n",
      "### NUV\n",
      "\n",
      "sl_no       ra_hms           dec_dms        Mag  ...   b4    b13    b15     n2 \n",
      "----- ----------------- ------------------ ----- ... ------ ------ ------ -----\n",
      "    1 03:55:37.67096036  +09:55:44.7185265 12.74 ... 313.83 385.15 105.56 78.46\n",
      "    2 03:54:57.24413491 +09:47:09.33108497 14.09 ...  64.10  78.67  21.56 16.03\n",
      "    3 03:55:21.98930795 +09:47:18.49680567 14.58 ...  38.41  47.14  12.92  9.60\n",
      "    4 03:56:17.23533104 +09:38:57.94199924 15.01 ...  21.73  26.67   7.31  5.43\n",
      "    5  03:54:21.3710159 +09:42:46.22168907 15.86 ...  10.00  12.27   3.36  2.50\n",
      "\n",
      "\n",
      "\n",
      "Safe filters in NUV: ['Silica', 'NUV-B4', 'NUV-B13', 'NUV-B15', 'NUV-N2']\n",
      "\n",
      "\n",
      "### FUV \n",
      "\n",
      "sl_no       ra_hms           dec_dms        Mag  ...  baf2 sapphire silica\n",
      "----- ----------------- ------------------ ----- ... ----- -------- ------\n",
      "    1 03:55:21.98930795 +09:47:18.49680567 14.60 ... 28.31    20.98   7.33\n",
      "    2 03:56:17.23533104 +09:38:57.94199924 16.42 ...  4.45     3.30   1.15\n",
      "    3 03:55:37.67096036  +09:55:44.7185265 17.85 ...  1.20     0.89   0.31\n",
      "    4 03:54:16.28508662 +09:57:39.23211601 18.49 ...  0.66     0.49   0.17\n",
      "    5 03:54:57.24413491 +09:47:09.33108497 19.88 ...  0.18     0.14   0.05\n",
      "\n",
      "\n",
      "\n",
      "\n",
      "Safe filters in FUV: ['CaF2', 'FUV-grating', 'BaF2', 'Sapphire', 'Silica']\n",
      "\n"
     ]
    }
   ],
   "source": [
    "canuvit.observe('uvit', '03:55:22', '09:47:18')"
   ]
  },
  {
   "cell_type": "markdown",
   "id": "a12eeb52-37d7-4db8-b1d6-4b1bfc67f5f8",
   "metadata": {},
   "source": [
    "If GALEX images are available for the field, the script will produce images with brightest 5 sources marked. Please check the working directory for the output GALEX images. For this example field, you should find a pair of FUV and NUV images.\n",
    "\n",
    "<img src=\"images/WDST_HZ_4-nd-int.png\" width=\"400\"> <img src=\"images/WDST_HZ_4-fd-int.png\" width=\"400\"/> "
   ]
  }
 ],
 "metadata": {
  "kernelspec": {
   "display_name": "Python 3 (ipykernel)",
   "language": "python",
   "name": "python3"
  },
  "language_info": {
   "codemirror_mode": {
    "name": "ipython",
    "version": 3
   },
   "file_extension": ".py",
   "mimetype": "text/x-python",
   "name": "python",
   "nbconvert_exporter": "python",
   "pygments_lexer": "ipython3",
   "version": "3.9.9"
  }
 },
 "nbformat": 4,
 "nbformat_minor": 5
}
