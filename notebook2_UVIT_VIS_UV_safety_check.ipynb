{
 "cells": [
  {
   "cell_type": "markdown",
   "id": "3d75ddf3-ef97-4ac6-a24d-f65f8c644ec3",
   "metadata": {},
   "source": [
    "This notebook shows how to check whether a field can be safely observed with UVIT. The safety of the VIS, FUV, and NUV (currently not functional) channels can be checked for various filters."
   ]
  },
  {
   "cell_type": "markdown",
   "id": "17352551-1cb7-475b-bf53-4a69e030586a",
   "metadata": {},
   "source": [
    "The following Python script depends on the Python package Canuvit. If you do not have it installed, please install it."
   ]
  },
  {
   "cell_type": "markdown",
   "id": "64cb5558-8673-4c08-af69-c5ed2e982aab",
   "metadata": {},
   "source": [
    "Import the canuvit package."
   ]
  },
  {
   "cell_type": "code",
   "execution_count": 1,
   "id": "3b582ca2-d0d4-4a32-bfe2-f5d356808e87",
   "metadata": {},
   "outputs": [],
   "source": [
    "import canuvit"
   ]
  },
  {
   "cell_type": "markdown",
   "id": "d971c3e1-b8e6-46a8-a09c-85cdc2be343a",
   "metadata": {},
   "source": [
    "As an example, we will try to check which filters are safe to observe in the VIS, FUV, and NUV (currently not functional) channels of UVIT for the field containing HZ 4 https://simbad.u-strasbg.fr/simbad/sim-id?protocol=html&Ident=HZ4&NbIdent=1&. UVIT is the primary instrument selected. Note that the script may take ~1 minute to run."
   ]
  },
  {
   "cell_type": "code",
   "execution_count": 2,
   "id": "974465ac-3267-4507-8d1a-9664177167e1",
   "metadata": {},
   "outputs": [
    {
     "name": "stdout",
     "output_type": "stream",
     "text": [
      "\n",
      "=========================================================\n",
      "Payload: uvit, Coordinates: 03:55:22, 09:47:18\n",
      "=========================================================\n",
      "\n",
      "### VIS\n",
      "\n",
      "sl_no   ra_hms     dec_dms   mag  B-V SpecType   VIS3   VIS2   VIS1   ND1    BK7  \n",
      "----- ---------- ----------- ---- --- -------- ------- ------ ------ ----- -------\n",
      "    1 03:55:37.8 +09:55:44.5  8.6 0.4       F5 20600.0 3318.0 2555.2 464.0 27100.0\n",
      "    2 03:54:57.3 +09:47:09.5  9.8 0.4       F5  6268.8 1010.4  778.1 141.3  8237.7\n",
      "    3 03:56:14.7 +09:58:20.9 10.6 1.0       K4  1775.9  122.3   74.2  39.9  2096.1\n",
      "    4 03:54:21.4 +09:42:45.8 11.2 0.5       F5  1729.7  278.8  214.7  39.0  2273.0\n",
      "    5 03:56:17.3 +09:38:57.8 11.6 0.4       F2  1403.4  250.7  177.2  31.8  1855.2\n",
      "    6 03:54:53.8 +09:49:54.1 11.8 0.8       K0   667.5   62.3   44.4  14.9   813.6\n",
      "\n",
      "Safe filters: ['VIS2', 'VIS1', 'ND1']\n",
      "\n",
      "### NUV\n",
      "\n",
      "sl_no   ra_hms     dec_dms   Mag  Mag_corrected silica   b4   b13   b15   n2 \n",
      "----- ---------- ----------- ---- ------------- ------ ----- ----- ----- ----\n",
      "    1 03:55:37.7 +09:55:44.7 12.7          12.1 1426.5 313.8 385.2 105.6 78.5\n",
      "    2 03:54:57.2 +09:47:09.3 14.1          13.8  291.4  64.1  78.7  21.6 16.0\n",
      "    3 03:55:22.0 +09:47:18.5 14.6          14.4  174.6  38.4  47.1  12.9  9.6\n",
      "    4 03:56:17.2 +09:38:57.9 15.0          15.0   98.8  21.7  26.7   7.3  5.4\n",
      "    5 03:54:21.4 +09:42:46.2 15.9          15.9   45.4  10.0  12.3   3.4  2.5\n",
      "\n",
      "Safe filters in NUV: ['Silica', 'NUV-B4', 'NUV-B13', 'NUV-B15', 'NUV-N2']\n",
      "\n",
      "### FUV\n",
      "\n",
      "sl_no   ra_hms     dec_dms   Mag  Mag_corrected caf2 baf2 sapphire silica\n",
      "----- ---------- ----------- ---- ------------- ---- ---- -------- ------\n",
      "    1 03:55:22.0 +09:47:18.5 14.6          14.4 33.3 28.3     21.0    7.3\n",
      "    2 03:56:17.2 +09:38:57.9 16.4          16.4  5.2  4.4      3.3    1.2\n",
      "    3 03:55:37.7 +09:55:44.7 17.8          17.8  1.4  1.2      0.9    0.3\n",
      "    4 03:54:16.3 +09:57:39.2 18.5          18.5  0.8  0.7      0.5    0.2\n",
      "    5 03:54:57.2 +09:47:09.3 19.9          19.9  0.2  0.2      0.1    0.0\n",
      "\n",
      "Safe filters in FUV: ['CaF2', 'FUV-grating', 'BaF2', 'Sapphire', 'Silica']\n"
     ]
    }
   ],
   "source": [
    "canuvit.observe('uvit', '03:55:22', '09:47:18')"
   ]
  },
  {
   "cell_type": "markdown",
   "id": "a12eeb52-37d7-4db8-b1d6-4b1bfc67f5f8",
   "metadata": {},
   "source": [
    "If GALEX images are available for the field, the script will produce images with brightest 5 sources marked. Please check the working directory for the output GALEX images. For the example field containing HZ 4, you should find a pair of FUV and NUV images.\n",
    "\n",
    "<img src=\"images/WDST_HZ_4-nd-int.png\" width=\"400\"> <img src=\"images/WDST_HZ_4-fd-int.png\" width=\"400\"/> "
   ]
  }
 ],
 "metadata": {
  "kernelspec": {
   "display_name": "Python 3 (ipykernel)",
   "language": "python",
   "name": "python3"
  },
  "language_info": {
   "codemirror_mode": {
    "name": "ipython",
    "version": 3
   },
   "file_extension": ".py",
   "mimetype": "text/x-python",
   "name": "python",
   "nbconvert_exporter": "python",
   "pygments_lexer": "ipython3",
   "version": "3.9.16"
  }
 },
 "nbformat": 4,
 "nbformat_minor": 5
}
