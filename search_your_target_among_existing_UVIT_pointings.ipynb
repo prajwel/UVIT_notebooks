{
 "cells": [
  {
   "cell_type": "markdown",
   "id": "75cc0590-53f7-4072-a3d3-6885950d7414",
   "metadata": {},
   "source": [
    "This notebook shows you how to search your source of interest among the already observed list of targets. A list has been compiled with Observation IDs and pointing coordinates in RA and DEC. The list can be accessed at https://github.com/prajwel/UVIT_notebooks/blob/main/UVIT_pointings.txt (I will try to keep the list updated). Note that a similar functionality exists already at the ISSDC AstroBrowse website. Also, data download is only possible through the AstroBrowse website. "
   ]
  },
  {
   "cell_type": "markdown",
   "id": "f0b6fed4-9e6c-491f-9ae2-92ea5896a8f2",
   "metadata": {},
   "source": [
    "This Python script depends on Python packages Numpy, Matplotlib, and Astropy. If you do not have these installed, please install them. If you are using Colab/Binder, uncomment the cell below and run to install the package for the online interactive session."
   ]
  },
  {
   "cell_type": "code",
   "execution_count": 1,
   "id": "5e5bc787-7107-4367-8e23-429c6f47109d",
   "metadata": {},
   "outputs": [],
   "source": [
    "# !pip install numpy matplotlib astropy"
   ]
  },
  {
   "cell_type": "markdown",
   "id": "5c4a5303-6854-4816-a5c7-5bff44038bc4",
   "metadata": {},
   "source": [
    "Import packages"
   ]
  },
  {
   "cell_type": "code",
   "execution_count": 2,
   "id": "d894bf46-bd8f-42c8-b2a0-488341a7e767",
   "metadata": {},
   "outputs": [],
   "source": [
    "import numpy as np\n",
    "import matplotlib.pyplot as plt\n",
    "\n",
    "from astropy import units as u\n",
    "from astropy.coordinates import SkyCoord"
   ]
  },
  {
   "cell_type": "markdown",
   "id": "09c052bc-028d-49ac-a6d9-a2896279c2d0",
   "metadata": {},
   "source": [
    "As an example, we will try to find observations of HZ 4 https://simbad.u-strasbg.fr/simbad/sim-id?protocol=html&Ident=HZ4&NbIdent=1&."
   ]
  },
  {
   "cell_type": "code",
   "execution_count": 3,
   "id": "92c7b155-6487-4071-9c4f-c7c38f066361",
   "metadata": {},
   "outputs": [],
   "source": [
    "input_RA = '58.841615'\n",
    "input_DEC = '9.788334'\n",
    "input_coo = SkyCoord(input_RA, input_DEC, unit = (u.deg, u.deg))"
   ]
  },
  {
   "cell_type": "markdown",
   "id": "dbce6fd5-e65b-439a-bf34-05c006ad7885",
   "metadata": {},
   "source": [
    "The `UVIT_pointings.txt` file has a list of Observation IDs and their pointings. "
   ]
  },
  {
   "cell_type": "code",
   "execution_count": 4,
   "id": "6c4c3c07-93fb-4175-8cd3-4028e1cd0daf",
   "metadata": {},
   "outputs": [],
   "source": [
    "uvit_pointings = np.genfromtxt('UVIT_pointings.txt', dtype= None, encoding = None, delimiter=',')\n",
    "OBSID, RA, DEC = uvit_pointings.T\n",
    "catalog = SkyCoord(RA, DEC, unit = (u.hourangle, u.deg))"
   ]
  },
  {
   "cell_type": "markdown",
   "id": "dc43adfe-ed2c-4f13-9e13-ad5c1f77c61e",
   "metadata": {},
   "source": [
    "Since UVIT has a field of view of ~0.5 degree, we will try to find those Observation IDs lying within a radius of 0.25 degrees."
   ]
  },
  {
   "cell_type": "code",
   "execution_count": 5,
   "id": "b50b0f3f-7849-4ebf-a9a8-a592092e19b9",
   "metadata": {},
   "outputs": [],
   "source": [
    "d2d = input_coo.separation(catalog)\n",
    "catalogmsk = d2d < 0.25 * u.deg"
   ]
  },
  {
   "cell_type": "markdown",
   "id": "d7c8e617-0357-4538-839d-04ae2e8773dc",
   "metadata": {},
   "source": [
    "To print the criteria matched Observation IDs."
   ]
  },
  {
   "cell_type": "code",
   "execution_count": 6,
   "id": "8cc32acd-7fbc-4d51-aead-23edfa48ee65",
   "metadata": {},
   "outputs": [
    {
     "name": "stdout",
     "output_type": "stream",
     "text": [
      "['C02_002T01_9000000888' 'C02_008T01_9000000884' 'C03_013T01_9000001586'\n",
      " 'C04_010T01_9000003158' 'T01_055T01_9000000394' 'T01_055T01_9000000408']\n"
     ]
    }
   ],
   "source": [
    "print(OBSID[catalogmsk])"
   ]
  },
  {
   "cell_type": "markdown",
   "id": "08304d2a-225e-4b59-b4d3-5edb609d2951",
   "metadata": {},
   "source": [
    "To print the criteria matched coordinates."
   ]
  },
  {
   "cell_type": "code",
   "execution_count": 7,
   "id": "9bd7821f-e662-45fb-8aaa-e20f07a76cb4",
   "metadata": {},
   "outputs": [
    {
     "name": "stdout",
     "output_type": "stream",
     "text": [
      "<SkyCoord (ICRS): (ra, dec) in deg\n",
      "    [(58.841625, 9.78833306), (58.841625, 9.78833306),\n",
      "     (58.841625, 9.78833306), (58.841625, 9.78833306),\n",
      "     (58.841625, 9.78833306), (58.841625, 9.78833306)]>\n"
     ]
    }
   ],
   "source": [
    "print(catalog[catalogmsk])"
   ]
  }
 ],
 "metadata": {
  "kernelspec": {
   "display_name": "Python 3 (ipykernel)",
   "language": "python",
   "name": "python3"
  },
  "language_info": {
   "codemirror_mode": {
    "name": "ipython",
    "version": 3
   },
   "file_extension": ".py",
   "mimetype": "text/x-python",
   "name": "python",
   "nbconvert_exporter": "python",
   "pygments_lexer": "ipython3",
   "version": "3.9.9"
  }
 },
 "nbformat": 4,
 "nbformat_minor": 5
}
